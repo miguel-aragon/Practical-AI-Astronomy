{
  "nbformat": 4,
  "nbformat_minor": 0,
  "metadata": {
    "colab": {
      "name": "TUT-02-dense-pima.ipynb",
      "provenance": [],
      "collapsed_sections": []
    },
    "kernelspec": {
      "name": "python3",
      "display_name": "Python 3"
    }
  },
  "cells": [
    {
      "cell_type": "code",
      "metadata": {
        "id": "QVHm9tjUCWyK"
      },
      "source": [
        "import numpy as np\n",
        "from numpy import genfromtxt\n",
        "from keras.models import Sequential\n",
        "from keras.layers import Dense"
      ],
      "execution_count": null,
      "outputs": []
    },
    {
      "cell_type": "code",
      "metadata": {
        "id": "yuDhwsN6CoF1",
        "colab": {
          "base_uri": "https://localhost:8080/",
          "height": 34
        },
        "outputId": "b06d5e60-8cda-4f9e-cb82-f7c4585bb7ab"
      },
      "source": [
        "data = genfromtxt('pima.csv', delimiter=',')\n",
        "data.shape"
      ],
      "execution_count": null,
      "outputs": [
        {
          "output_type": "execute_result",
          "data": {
            "text/plain": [
              "(768, 9)"
            ]
          },
          "metadata": {
            "tags": []
          },
          "execution_count": 2
        }
      ]
    },
    {
      "cell_type": "code",
      "metadata": {
        "id": "-NQoR5BACoJk"
      },
      "source": [
        "X_train = data[0:700, 0:8]\n",
        "Y_train = data[0:700, 8]\n",
        "X_test = data[700:750, 0:8]\n",
        "Y_test = data[700:750, 8]"
      ],
      "execution_count": null,
      "outputs": []
    },
    {
      "cell_type": "code",
      "metadata": {
        "id": "M8oMGpAVCoM9"
      },
      "source": [
        "model = Sequential()\n",
        "model.add(Dense(12, input_dim=8, activation='relu'))\n",
        "model.add(Dense(8, activation='relu'))\n",
        "model.add(Dense(8, activation='relu'))\n",
        "model.add(Dense(1, activation='sigmoid'))"
      ],
      "execution_count": null,
      "outputs": []
    },
    {
      "cell_type": "code",
      "metadata": {
        "id": "Ip-2cxgUCoTc"
      },
      "source": [
        "# compile the keras model\n",
        "model.compile(loss='binary_crossentropy', optimizer='adam', metrics=['accuracy'])"
      ],
      "execution_count": null,
      "outputs": []
    },
    {
      "cell_type": "code",
      "metadata": {
        "id": "90z5vVSECoQ3",
        "colab": {
          "base_uri": "https://localhost:8080/",
          "height": 1000
        },
        "outputId": "8b4b7a6d-b766-4b2c-d9c6-6293239a1a9a"
      },
      "source": [
        "# fit the keras model on the dataset\n",
        "model.fit(X_train, Y_train, epochs=150, batch_size=10)"
      ],
      "execution_count": null,
      "outputs": [
        {
          "output_type": "stream",
          "text": [
            "Epoch 1/150\n",
            "70/70 [==============================] - 0s 937us/step - loss: 1.8357 - accuracy: 0.5714\n",
            "Epoch 2/150\n",
            "70/70 [==============================] - 0s 910us/step - loss: 0.9057 - accuracy: 0.5600\n",
            "Epoch 3/150\n",
            "70/70 [==============================] - 0s 897us/step - loss: 0.7495 - accuracy: 0.5971\n",
            "Epoch 4/150\n",
            "70/70 [==============================] - 0s 959us/step - loss: 0.6940 - accuracy: 0.6200\n",
            "Epoch 5/150\n",
            "70/70 [==============================] - 0s 981us/step - loss: 0.6565 - accuracy: 0.6343\n",
            "Epoch 6/150\n",
            "70/70 [==============================] - 0s 971us/step - loss: 0.6494 - accuracy: 0.6629\n",
            "Epoch 7/150\n",
            "70/70 [==============================] - 0s 930us/step - loss: 0.6215 - accuracy: 0.6786\n",
            "Epoch 8/150\n",
            "70/70 [==============================] - 0s 989us/step - loss: 0.6286 - accuracy: 0.6886\n",
            "Epoch 9/150\n",
            "70/70 [==============================] - 0s 988us/step - loss: 0.6268 - accuracy: 0.6600\n",
            "Epoch 10/150\n",
            "70/70 [==============================] - 0s 947us/step - loss: 0.6021 - accuracy: 0.6871\n",
            "Epoch 11/150\n",
            "70/70 [==============================] - 0s 938us/step - loss: 0.5984 - accuracy: 0.7071\n",
            "Epoch 12/150\n",
            "70/70 [==============================] - 0s 948us/step - loss: 0.5863 - accuracy: 0.7029\n",
            "Epoch 13/150\n",
            "70/70 [==============================] - 0s 928us/step - loss: 0.5845 - accuracy: 0.7086\n",
            "Epoch 14/150\n",
            "70/70 [==============================] - 0s 942us/step - loss: 0.5827 - accuracy: 0.7129\n",
            "Epoch 15/150\n",
            "70/70 [==============================] - 0s 924us/step - loss: 0.5694 - accuracy: 0.7157\n",
            "Epoch 16/150\n",
            "70/70 [==============================] - 0s 909us/step - loss: 0.5699 - accuracy: 0.7143\n",
            "Epoch 17/150\n",
            "70/70 [==============================] - 0s 921us/step - loss: 0.5894 - accuracy: 0.7086\n",
            "Epoch 18/150\n",
            "70/70 [==============================] - 0s 977us/step - loss: 0.5738 - accuracy: 0.7114\n",
            "Epoch 19/150\n",
            "70/70 [==============================] - 0s 971us/step - loss: 0.5590 - accuracy: 0.7243\n",
            "Epoch 20/150\n",
            "70/70 [==============================] - 0s 1ms/step - loss: 0.5586 - accuracy: 0.7129\n",
            "Epoch 21/150\n",
            "70/70 [==============================] - 0s 1ms/step - loss: 0.5510 - accuracy: 0.7314\n",
            "Epoch 22/150\n",
            "70/70 [==============================] - 0s 1ms/step - loss: 0.5649 - accuracy: 0.7243\n",
            "Epoch 23/150\n",
            "70/70 [==============================] - 0s 1ms/step - loss: 0.5405 - accuracy: 0.7286\n",
            "Epoch 24/150\n",
            "70/70 [==============================] - 0s 1ms/step - loss: 0.5534 - accuracy: 0.7200\n",
            "Epoch 25/150\n",
            "70/70 [==============================] - 0s 1ms/step - loss: 0.5380 - accuracy: 0.7414\n",
            "Epoch 26/150\n",
            "70/70 [==============================] - 0s 1ms/step - loss: 0.5441 - accuracy: 0.7257\n",
            "Epoch 27/150\n",
            "70/70 [==============================] - 0s 1ms/step - loss: 0.5394 - accuracy: 0.7429\n",
            "Epoch 28/150\n",
            "70/70 [==============================] - 0s 1ms/step - loss: 0.5631 - accuracy: 0.7200\n",
            "Epoch 29/150\n",
            "70/70 [==============================] - 0s 1ms/step - loss: 0.5457 - accuracy: 0.7257\n",
            "Epoch 30/150\n",
            "70/70 [==============================] - 0s 1ms/step - loss: 0.5417 - accuracy: 0.7400\n",
            "Epoch 31/150\n",
            "70/70 [==============================] - 0s 1ms/step - loss: 0.5398 - accuracy: 0.7329\n",
            "Epoch 32/150\n",
            "70/70 [==============================] - 0s 1ms/step - loss: 0.5427 - accuracy: 0.7314\n",
            "Epoch 33/150\n",
            "70/70 [==============================] - 0s 1ms/step - loss: 0.5370 - accuracy: 0.7414\n",
            "Epoch 34/150\n",
            "70/70 [==============================] - 0s 1ms/step - loss: 0.5598 - accuracy: 0.7371\n",
            "Epoch 35/150\n",
            "70/70 [==============================] - 0s 1ms/step - loss: 0.5219 - accuracy: 0.7600\n",
            "Epoch 36/150\n",
            "70/70 [==============================] - 0s 1ms/step - loss: 0.5564 - accuracy: 0.7243\n",
            "Epoch 37/150\n",
            "70/70 [==============================] - 0s 1ms/step - loss: 0.5487 - accuracy: 0.7257\n",
            "Epoch 38/150\n",
            "70/70 [==============================] - 0s 1ms/step - loss: 0.5263 - accuracy: 0.7443\n",
            "Epoch 39/150\n",
            "70/70 [==============================] - 0s 1ms/step - loss: 0.5258 - accuracy: 0.7329\n",
            "Epoch 40/150\n",
            "70/70 [==============================] - 0s 1ms/step - loss: 0.5336 - accuracy: 0.7343\n",
            "Epoch 41/150\n",
            "70/70 [==============================] - 0s 1ms/step - loss: 0.5230 - accuracy: 0.7471\n",
            "Epoch 42/150\n",
            "70/70 [==============================] - 0s 1ms/step - loss: 0.5145 - accuracy: 0.7386\n",
            "Epoch 43/150\n",
            "70/70 [==============================] - 0s 1ms/step - loss: 0.5084 - accuracy: 0.7443\n",
            "Epoch 44/150\n",
            "70/70 [==============================] - 0s 1ms/step - loss: 0.5023 - accuracy: 0.7586\n",
            "Epoch 45/150\n",
            "70/70 [==============================] - 0s 1ms/step - loss: 0.5162 - accuracy: 0.7314\n",
            "Epoch 46/150\n",
            "70/70 [==============================] - 0s 1ms/step - loss: 0.5137 - accuracy: 0.7443\n",
            "Epoch 47/150\n",
            "70/70 [==============================] - 0s 1ms/step - loss: 0.5246 - accuracy: 0.7457\n",
            "Epoch 48/150\n",
            "70/70 [==============================] - 0s 1ms/step - loss: 0.5155 - accuracy: 0.7529\n",
            "Epoch 49/150\n",
            "70/70 [==============================] - 0s 1ms/step - loss: 0.5050 - accuracy: 0.7586\n",
            "Epoch 50/150\n",
            "70/70 [==============================] - 0s 1ms/step - loss: 0.5058 - accuracy: 0.7457\n",
            "Epoch 51/150\n",
            "70/70 [==============================] - 0s 1ms/step - loss: 0.5252 - accuracy: 0.7629\n",
            "Epoch 52/150\n",
            "70/70 [==============================] - 0s 1ms/step - loss: 0.5149 - accuracy: 0.7486\n",
            "Epoch 53/150\n",
            "70/70 [==============================] - 0s 1ms/step - loss: 0.5168 - accuracy: 0.7471\n",
            "Epoch 54/150\n",
            "70/70 [==============================] - 0s 1ms/step - loss: 0.5113 - accuracy: 0.7600\n",
            "Epoch 55/150\n",
            "70/70 [==============================] - 0s 1ms/step - loss: 0.5067 - accuracy: 0.7486\n",
            "Epoch 56/150\n",
            "70/70 [==============================] - 0s 1ms/step - loss: 0.4945 - accuracy: 0.7714\n",
            "Epoch 57/150\n",
            "70/70 [==============================] - 0s 1ms/step - loss: 0.4882 - accuracy: 0.7657\n",
            "Epoch 58/150\n",
            "70/70 [==============================] - 0s 1ms/step - loss: 0.4896 - accuracy: 0.7729\n",
            "Epoch 59/150\n",
            "70/70 [==============================] - 0s 1ms/step - loss: 0.4915 - accuracy: 0.7629\n",
            "Epoch 60/150\n",
            "70/70 [==============================] - 0s 1ms/step - loss: 0.5096 - accuracy: 0.7443\n",
            "Epoch 61/150\n",
            "70/70 [==============================] - 0s 1ms/step - loss: 0.5106 - accuracy: 0.7557\n",
            "Epoch 62/150\n",
            "70/70 [==============================] - 0s 1ms/step - loss: 0.4969 - accuracy: 0.7486\n",
            "Epoch 63/150\n",
            "70/70 [==============================] - 0s 1ms/step - loss: 0.4989 - accuracy: 0.7729\n",
            "Epoch 64/150\n",
            "70/70 [==============================] - 0s 1ms/step - loss: 0.5033 - accuracy: 0.7400\n",
            "Epoch 65/150\n",
            "70/70 [==============================] - 0s 1ms/step - loss: 0.4945 - accuracy: 0.7600\n",
            "Epoch 66/150\n",
            "70/70 [==============================] - 0s 1ms/step - loss: 0.4977 - accuracy: 0.7486\n",
            "Epoch 67/150\n",
            "70/70 [==============================] - 0s 1ms/step - loss: 0.4792 - accuracy: 0.7600\n",
            "Epoch 68/150\n",
            "70/70 [==============================] - 0s 1ms/step - loss: 0.5007 - accuracy: 0.7571\n",
            "Epoch 69/150\n",
            "70/70 [==============================] - 0s 1ms/step - loss: 0.4913 - accuracy: 0.7629\n",
            "Epoch 70/150\n",
            "70/70 [==============================] - 0s 1ms/step - loss: 0.5106 - accuracy: 0.7443\n",
            "Epoch 71/150\n",
            "70/70 [==============================] - 0s 1ms/step - loss: 0.4889 - accuracy: 0.7600\n",
            "Epoch 72/150\n",
            "70/70 [==============================] - 0s 1ms/step - loss: 0.4846 - accuracy: 0.7743\n",
            "Epoch 73/150\n",
            "70/70 [==============================] - 0s 1ms/step - loss: 0.4816 - accuracy: 0.7629\n",
            "Epoch 74/150\n",
            "70/70 [==============================] - 0s 1ms/step - loss: 0.4956 - accuracy: 0.7529\n",
            "Epoch 75/150\n",
            "70/70 [==============================] - 0s 1ms/step - loss: 0.4905 - accuracy: 0.7571\n",
            "Epoch 76/150\n",
            "70/70 [==============================] - 0s 1ms/step - loss: 0.4858 - accuracy: 0.7714\n",
            "Epoch 77/150\n",
            "70/70 [==============================] - 0s 1ms/step - loss: 0.5002 - accuracy: 0.7529\n",
            "Epoch 78/150\n",
            "70/70 [==============================] - 0s 1ms/step - loss: 0.4897 - accuracy: 0.7529\n",
            "Epoch 79/150\n",
            "70/70 [==============================] - 0s 1ms/step - loss: 0.4800 - accuracy: 0.7729\n",
            "Epoch 80/150\n",
            "70/70 [==============================] - 0s 1ms/step - loss: 0.4780 - accuracy: 0.7629\n",
            "Epoch 81/150\n",
            "70/70 [==============================] - 0s 1ms/step - loss: 0.4804 - accuracy: 0.7686\n",
            "Epoch 82/150\n",
            "70/70 [==============================] - 0s 1ms/step - loss: 0.4811 - accuracy: 0.7643\n",
            "Epoch 83/150\n",
            "70/70 [==============================] - 0s 1ms/step - loss: 0.4863 - accuracy: 0.7571\n",
            "Epoch 84/150\n",
            "70/70 [==============================] - 0s 1ms/step - loss: 0.4811 - accuracy: 0.7586\n",
            "Epoch 85/150\n",
            "70/70 [==============================] - 0s 1ms/step - loss: 0.4956 - accuracy: 0.7543\n",
            "Epoch 86/150\n",
            "70/70 [==============================] - 0s 1ms/step - loss: 0.4802 - accuracy: 0.7700\n",
            "Epoch 87/150\n",
            "70/70 [==============================] - 0s 1ms/step - loss: 0.4929 - accuracy: 0.7729\n",
            "Epoch 88/150\n",
            "70/70 [==============================] - 0s 1ms/step - loss: 0.4779 - accuracy: 0.7686\n",
            "Epoch 89/150\n",
            "70/70 [==============================] - 0s 1ms/step - loss: 0.4919 - accuracy: 0.7471\n",
            "Epoch 90/150\n",
            "70/70 [==============================] - 0s 1ms/step - loss: 0.4762 - accuracy: 0.7643\n",
            "Epoch 91/150\n",
            "70/70 [==============================] - 0s 1ms/step - loss: 0.4750 - accuracy: 0.7771\n",
            "Epoch 92/150\n",
            "70/70 [==============================] - 0s 1ms/step - loss: 0.4825 - accuracy: 0.7714\n",
            "Epoch 93/150\n",
            "70/70 [==============================] - 0s 1ms/step - loss: 0.4752 - accuracy: 0.7786\n",
            "Epoch 94/150\n",
            "70/70 [==============================] - 0s 1ms/step - loss: 0.4760 - accuracy: 0.7629\n",
            "Epoch 95/150\n",
            "70/70 [==============================] - 0s 1ms/step - loss: 0.4953 - accuracy: 0.7543\n",
            "Epoch 96/150\n",
            "70/70 [==============================] - 0s 1ms/step - loss: 0.4731 - accuracy: 0.7671\n",
            "Epoch 97/150\n",
            "70/70 [==============================] - 0s 1ms/step - loss: 0.4709 - accuracy: 0.7700\n",
            "Epoch 98/150\n",
            "70/70 [==============================] - 0s 1ms/step - loss: 0.4727 - accuracy: 0.7514\n",
            "Epoch 99/150\n",
            "70/70 [==============================] - 0s 1ms/step - loss: 0.4703 - accuracy: 0.7714\n",
            "Epoch 100/150\n",
            "70/70 [==============================] - 0s 1ms/step - loss: 0.4738 - accuracy: 0.7686\n",
            "Epoch 101/150\n",
            "70/70 [==============================] - 0s 1ms/step - loss: 0.4781 - accuracy: 0.7643\n",
            "Epoch 102/150\n",
            "70/70 [==============================] - 0s 1ms/step - loss: 0.4857 - accuracy: 0.7686\n",
            "Epoch 103/150\n",
            "70/70 [==============================] - 0s 1ms/step - loss: 0.4805 - accuracy: 0.7600\n",
            "Epoch 104/150\n",
            "70/70 [==============================] - 0s 1ms/step - loss: 0.4679 - accuracy: 0.7671\n",
            "Epoch 105/150\n",
            "70/70 [==============================] - 0s 1ms/step - loss: 0.4607 - accuracy: 0.7829\n",
            "Epoch 106/150\n",
            "70/70 [==============================] - 0s 1ms/step - loss: 0.4648 - accuracy: 0.7700\n",
            "Epoch 107/150\n",
            "70/70 [==============================] - 0s 1ms/step - loss: 0.4668 - accuracy: 0.7571\n",
            "Epoch 108/150\n",
            "70/70 [==============================] - 0s 1ms/step - loss: 0.4774 - accuracy: 0.7671\n",
            "Epoch 109/150\n",
            "70/70 [==============================] - 0s 1ms/step - loss: 0.4688 - accuracy: 0.7700\n",
            "Epoch 110/150\n",
            "70/70 [==============================] - 0s 1ms/step - loss: 0.4845 - accuracy: 0.7514\n",
            "Epoch 111/150\n",
            "70/70 [==============================] - 0s 1ms/step - loss: 0.4776 - accuracy: 0.7543\n",
            "Epoch 112/150\n",
            "70/70 [==============================] - 0s 1ms/step - loss: 0.4789 - accuracy: 0.7557\n",
            "Epoch 113/150\n",
            "70/70 [==============================] - 0s 1ms/step - loss: 0.4793 - accuracy: 0.7686\n",
            "Epoch 114/150\n",
            "70/70 [==============================] - 0s 1ms/step - loss: 0.4771 - accuracy: 0.7657\n",
            "Epoch 115/150\n",
            "70/70 [==============================] - 0s 1ms/step - loss: 0.4608 - accuracy: 0.7786\n",
            "Epoch 116/150\n",
            "70/70 [==============================] - 0s 1ms/step - loss: 0.4819 - accuracy: 0.7514\n",
            "Epoch 117/150\n",
            "70/70 [==============================] - 0s 1ms/step - loss: 0.4698 - accuracy: 0.7643\n",
            "Epoch 118/150\n",
            "70/70 [==============================] - 0s 1ms/step - loss: 0.4660 - accuracy: 0.7686\n",
            "Epoch 119/150\n",
            "70/70 [==============================] - 0s 1ms/step - loss: 0.4651 - accuracy: 0.7814\n",
            "Epoch 120/150\n",
            "70/70 [==============================] - 0s 1ms/step - loss: 0.4648 - accuracy: 0.7714\n",
            "Epoch 121/150\n",
            "70/70 [==============================] - 0s 1ms/step - loss: 0.4718 - accuracy: 0.7729\n",
            "Epoch 122/150\n",
            "70/70 [==============================] - 0s 1ms/step - loss: 0.4724 - accuracy: 0.7514\n",
            "Epoch 123/150\n",
            "70/70 [==============================] - 0s 1ms/step - loss: 0.4830 - accuracy: 0.7671\n",
            "Epoch 124/150\n",
            "70/70 [==============================] - 0s 1ms/step - loss: 0.4638 - accuracy: 0.7771\n",
            "Epoch 125/150\n",
            "70/70 [==============================] - 0s 1ms/step - loss: 0.4628 - accuracy: 0.7729\n",
            "Epoch 126/150\n",
            "70/70 [==============================] - 0s 1ms/step - loss: 0.4691 - accuracy: 0.7729\n",
            "Epoch 127/150\n",
            "70/70 [==============================] - 0s 1ms/step - loss: 0.4732 - accuracy: 0.7700\n",
            "Epoch 128/150\n",
            "70/70 [==============================] - 0s 1ms/step - loss: 0.4809 - accuracy: 0.7643\n",
            "Epoch 129/150\n",
            "70/70 [==============================] - 0s 1ms/step - loss: 0.4666 - accuracy: 0.7643\n",
            "Epoch 130/150\n",
            "70/70 [==============================] - 0s 1ms/step - loss: 0.4960 - accuracy: 0.7471\n",
            "Epoch 131/150\n",
            "70/70 [==============================] - 0s 1ms/step - loss: 0.4630 - accuracy: 0.7771\n",
            "Epoch 132/150\n",
            "70/70 [==============================] - 0s 1ms/step - loss: 0.4702 - accuracy: 0.7757\n",
            "Epoch 133/150\n",
            "70/70 [==============================] - 0s 1ms/step - loss: 0.4647 - accuracy: 0.7843\n",
            "Epoch 134/150\n",
            "70/70 [==============================] - 0s 1ms/step - loss: 0.4813 - accuracy: 0.7529\n",
            "Epoch 135/150\n",
            "70/70 [==============================] - 0s 1ms/step - loss: 0.4605 - accuracy: 0.7671\n",
            "Epoch 136/150\n",
            "70/70 [==============================] - 0s 2ms/step - loss: 0.4608 - accuracy: 0.7671\n",
            "Epoch 137/150\n",
            "70/70 [==============================] - 0s 1ms/step - loss: 0.4589 - accuracy: 0.7757\n",
            "Epoch 138/150\n",
            "70/70 [==============================] - 0s 1ms/step - loss: 0.4629 - accuracy: 0.7700\n",
            "Epoch 139/150\n",
            "70/70 [==============================] - 0s 1ms/step - loss: 0.4526 - accuracy: 0.7771\n",
            "Epoch 140/150\n",
            "70/70 [==============================] - 0s 1ms/step - loss: 0.4560 - accuracy: 0.7729\n",
            "Epoch 141/150\n",
            "70/70 [==============================] - 0s 1ms/step - loss: 0.4619 - accuracy: 0.7771\n",
            "Epoch 142/150\n",
            "70/70 [==============================] - 0s 1ms/step - loss: 0.4651 - accuracy: 0.7886\n",
            "Epoch 143/150\n",
            "70/70 [==============================] - 0s 1ms/step - loss: 0.4613 - accuracy: 0.7743\n",
            "Epoch 144/150\n",
            "70/70 [==============================] - 0s 1ms/step - loss: 0.4506 - accuracy: 0.7714\n",
            "Epoch 145/150\n",
            "70/70 [==============================] - 0s 1ms/step - loss: 0.4604 - accuracy: 0.7757\n",
            "Epoch 146/150\n",
            "70/70 [==============================] - 0s 1ms/step - loss: 0.4721 - accuracy: 0.7657\n",
            "Epoch 147/150\n",
            "70/70 [==============================] - 0s 1ms/step - loss: 0.4577 - accuracy: 0.7686\n",
            "Epoch 148/150\n",
            "70/70 [==============================] - 0s 983us/step - loss: 0.4559 - accuracy: 0.7757\n",
            "Epoch 149/150\n",
            "70/70 [==============================] - 0s 985us/step - loss: 0.4596 - accuracy: 0.7743\n",
            "Epoch 150/150\n",
            "70/70 [==============================] - 0s 1ms/step - loss: 0.4517 - accuracy: 0.7786\n"
          ],
          "name": "stdout"
        },
        {
          "output_type": "execute_result",
          "data": {
            "text/plain": [
              "<tensorflow.python.keras.callbacks.History at 0x7f66cd1ea860>"
            ]
          },
          "metadata": {
            "tags": []
          },
          "execution_count": 26
        }
      ]
    },
    {
      "cell_type": "code",
      "metadata": {
        "id": "GgRphumFEJVA",
        "colab": {
          "base_uri": "https://localhost:8080/",
          "height": 51
        },
        "outputId": "85565a74-1a12-465a-b995-add0bf187b74"
      },
      "source": [
        "# evaluate the keras model\n",
        "_, accuracy = model.evaluate(X_test, Y_test)\n",
        "print('Accuracy: %.2f' % (accuracy*100))"
      ],
      "execution_count": null,
      "outputs": [
        {
          "output_type": "stream",
          "text": [
            "2/2 [==============================] - 0s 3ms/step - loss: 0.6566 - accuracy: 0.7400\n",
            "Accuracy: 74.00\n"
          ],
          "name": "stdout"
        }
      ]
    },
    {
      "cell_type": "code",
      "metadata": {
        "id": "Nf39lKzlEUkP"
      },
      "source": [
        "# make probability predictions with the model\n",
        "predictions = model.predict(X_test)\n",
        "# round predictions \n",
        "Y_pred = [np.round(x[0]) for x in predictions]"
      ],
      "execution_count": null,
      "outputs": []
    },
    {
      "cell_type": "code",
      "metadata": {
        "id": "EQljgBliEjYs",
        "colab": {
          "base_uri": "https://localhost:8080/",
          "height": 867
        },
        "outputId": "3e7f6a1d-f48f-4a42-d624-1ae8ddf515c5"
      },
      "source": [
        "for i in range(X_test.shape[0]):\n",
        "  if Y_test[i] == Y_pred[i]:\n",
        "    print(\" \", int(Y_test[i]), int(Y_pred[i]))\n",
        "  else:\n",
        "    print(\"*\", int(Y_test[i]), int(Y_pred[i]))"
      ],
      "execution_count": null,
      "outputs": [
        {
          "output_type": "stream",
          "text": [
            "  0 0\n",
            "* 1 0\n",
            "  1 1\n",
            "  0 0\n",
            "  0 0\n",
            "  0 0\n",
            "* 1 0\n",
            "  0 0\n",
            "  1 1\n",
            "* 1 0\n",
            "  0 0\n",
            "  0 0\n",
            "  1 1\n",
            "  0 0\n",
            "  0 0\n",
            "  1 1\n",
            "  1 1\n",
            "  0 0\n",
            "  0 0\n",
            "* 1 0\n",
            "  0 0\n",
            "  0 0\n",
            "* 1 0\n",
            "  0 0\n",
            "  0 0\n",
            "  0 0\n",
            "  0 0\n",
            "  0 0\n",
            "  0 0\n",
            "  0 0\n",
            "* 1 0\n",
            "* 1 0\n",
            "* 1 0\n",
            "  0 0\n",
            "  0 0\n",
            "  0 0\n",
            "  0 0\n",
            "  0 0\n",
            "  0 0\n",
            "* 1 0\n",
            "  1 1\n",
            "  0 0\n",
            "  0 0\n",
            "* 1 0\n",
            "* 0 1\n",
            "  0 0\n",
            "* 1 0\n",
            "  0 0\n",
            "  1 1\n",
            "* 1 0\n"
          ],
          "name": "stdout"
        }
      ]
    },
    {
      "cell_type": "code",
      "metadata": {
        "id": "jpEejA0XEjeh"
      },
      "source": [
        "#--- redshift\tphotoz\tm_u\tm_g\tm_r\tm_i\tm_z\tpetro50\tpetro90\n",
        "sdss = np.load('DR9_photo-z-small.npy')"
      ],
      "execution_count": null,
      "outputs": []
    },
    {
      "cell_type": "code",
      "metadata": {
        "id": "XkApTFsZPs4X",
        "colab": {
          "base_uri": "https://localhost:8080/",
          "height": 34
        },
        "outputId": "65261242-09b6-47e9-efc2-05fb935e3f38"
      },
      "source": [
        "np.max(sdss[:,7] / sdss[:,8])"
      ],
      "execution_count": null,
      "outputs": [
        {
          "output_type": "execute_result",
          "data": {
            "text/plain": [
              "0.9567256"
            ]
          },
          "metadata": {
            "tags": []
          },
          "execution_count": 44
        }
      ]
    },
    {
      "cell_type": "code",
      "metadata": {
        "id": "tThZV-cHP1Ad"
      },
      "source": [
        ""
      ],
      "execution_count": null,
      "outputs": []
    }
  ]
}